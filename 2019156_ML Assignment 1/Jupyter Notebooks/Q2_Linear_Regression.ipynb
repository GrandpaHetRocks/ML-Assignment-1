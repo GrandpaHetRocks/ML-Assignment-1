{
 "cells": [
  {
   "cell_type": "markdown",
   "metadata": {},
   "source": [
    "# Linear Regression"
   ]
  },
  {
   "cell_type": "code",
   "execution_count": 1,
   "metadata": {},
   "outputs": [],
   "source": [
    "import pandas as pd\n",
    "import sklearn as sk\n",
    "from sklearn import model_selection\n",
    "from matplotlib import pyplot as plt\n",
    "import numpy as np\n",
    "from sklearn.metrics import r2_score"
   ]
  },
  {
   "cell_type": "code",
   "execution_count": 2,
   "metadata": {},
   "outputs": [],
   "source": [
    "data = pd.read_csv(\"F:/assignments/Sem 6 Assignments/ML Assignment 1/Q2/abalone.data\")"
   ]
  },
  {
   "cell_type": "markdown",
   "metadata": {},
   "source": [
    "## Raw Data"
   ]
  },
  {
   "cell_type": "code",
   "execution_count": 3,
   "metadata": {},
   "outputs": [
    {
     "data": {
      "text/html": [
       "<div>\n",
       "<style scoped>\n",
       "    .dataframe tbody tr th:only-of-type {\n",
       "        vertical-align: middle;\n",
       "    }\n",
       "\n",
       "    .dataframe tbody tr th {\n",
       "        vertical-align: top;\n",
       "    }\n",
       "\n",
       "    .dataframe thead th {\n",
       "        text-align: right;\n",
       "    }\n",
       "</style>\n",
       "<table border=\"1\" class=\"dataframe\">\n",
       "  <thead>\n",
       "    <tr style=\"text-align: right;\">\n",
       "      <th></th>\n",
       "      <th>Sex</th>\n",
       "      <th>Length</th>\n",
       "      <th>Diameter</th>\n",
       "      <th>Height</th>\n",
       "      <th>Whole Weight</th>\n",
       "      <th>Shucked weight</th>\n",
       "      <th>Viscera weight</th>\n",
       "      <th>Shell weight</th>\n",
       "      <th>Rings</th>\n",
       "    </tr>\n",
       "  </thead>\n",
       "  <tbody>\n",
       "    <tr>\n",
       "      <th>0</th>\n",
       "      <td>M</td>\n",
       "      <td>0.455</td>\n",
       "      <td>0.365</td>\n",
       "      <td>0.095</td>\n",
       "      <td>0.5140</td>\n",
       "      <td>0.2245</td>\n",
       "      <td>0.1010</td>\n",
       "      <td>0.1500</td>\n",
       "      <td>15</td>\n",
       "    </tr>\n",
       "    <tr>\n",
       "      <th>1</th>\n",
       "      <td>M</td>\n",
       "      <td>0.350</td>\n",
       "      <td>0.265</td>\n",
       "      <td>0.090</td>\n",
       "      <td>0.2255</td>\n",
       "      <td>0.0995</td>\n",
       "      <td>0.0485</td>\n",
       "      <td>0.0700</td>\n",
       "      <td>7</td>\n",
       "    </tr>\n",
       "    <tr>\n",
       "      <th>2</th>\n",
       "      <td>F</td>\n",
       "      <td>0.530</td>\n",
       "      <td>0.420</td>\n",
       "      <td>0.135</td>\n",
       "      <td>0.6770</td>\n",
       "      <td>0.2565</td>\n",
       "      <td>0.1415</td>\n",
       "      <td>0.2100</td>\n",
       "      <td>9</td>\n",
       "    </tr>\n",
       "    <tr>\n",
       "      <th>3</th>\n",
       "      <td>M</td>\n",
       "      <td>0.440</td>\n",
       "      <td>0.365</td>\n",
       "      <td>0.125</td>\n",
       "      <td>0.5160</td>\n",
       "      <td>0.2155</td>\n",
       "      <td>0.1140</td>\n",
       "      <td>0.1550</td>\n",
       "      <td>10</td>\n",
       "    </tr>\n",
       "    <tr>\n",
       "      <th>4</th>\n",
       "      <td>I</td>\n",
       "      <td>0.330</td>\n",
       "      <td>0.255</td>\n",
       "      <td>0.080</td>\n",
       "      <td>0.2050</td>\n",
       "      <td>0.0895</td>\n",
       "      <td>0.0395</td>\n",
       "      <td>0.0550</td>\n",
       "      <td>7</td>\n",
       "    </tr>\n",
       "    <tr>\n",
       "      <th>...</th>\n",
       "      <td>...</td>\n",
       "      <td>...</td>\n",
       "      <td>...</td>\n",
       "      <td>...</td>\n",
       "      <td>...</td>\n",
       "      <td>...</td>\n",
       "      <td>...</td>\n",
       "      <td>...</td>\n",
       "      <td>...</td>\n",
       "    </tr>\n",
       "    <tr>\n",
       "      <th>4172</th>\n",
       "      <td>F</td>\n",
       "      <td>0.565</td>\n",
       "      <td>0.450</td>\n",
       "      <td>0.165</td>\n",
       "      <td>0.8870</td>\n",
       "      <td>0.3700</td>\n",
       "      <td>0.2390</td>\n",
       "      <td>0.2490</td>\n",
       "      <td>11</td>\n",
       "    </tr>\n",
       "    <tr>\n",
       "      <th>4173</th>\n",
       "      <td>M</td>\n",
       "      <td>0.590</td>\n",
       "      <td>0.440</td>\n",
       "      <td>0.135</td>\n",
       "      <td>0.9660</td>\n",
       "      <td>0.4390</td>\n",
       "      <td>0.2145</td>\n",
       "      <td>0.2605</td>\n",
       "      <td>10</td>\n",
       "    </tr>\n",
       "    <tr>\n",
       "      <th>4174</th>\n",
       "      <td>M</td>\n",
       "      <td>0.600</td>\n",
       "      <td>0.475</td>\n",
       "      <td>0.205</td>\n",
       "      <td>1.1760</td>\n",
       "      <td>0.5255</td>\n",
       "      <td>0.2875</td>\n",
       "      <td>0.3080</td>\n",
       "      <td>9</td>\n",
       "    </tr>\n",
       "    <tr>\n",
       "      <th>4175</th>\n",
       "      <td>F</td>\n",
       "      <td>0.625</td>\n",
       "      <td>0.485</td>\n",
       "      <td>0.150</td>\n",
       "      <td>1.0945</td>\n",
       "      <td>0.5310</td>\n",
       "      <td>0.2610</td>\n",
       "      <td>0.2960</td>\n",
       "      <td>10</td>\n",
       "    </tr>\n",
       "    <tr>\n",
       "      <th>4176</th>\n",
       "      <td>M</td>\n",
       "      <td>0.710</td>\n",
       "      <td>0.555</td>\n",
       "      <td>0.195</td>\n",
       "      <td>1.9485</td>\n",
       "      <td>0.9455</td>\n",
       "      <td>0.3765</td>\n",
       "      <td>0.4950</td>\n",
       "      <td>12</td>\n",
       "    </tr>\n",
       "  </tbody>\n",
       "</table>\n",
       "<p>4177 rows × 9 columns</p>\n",
       "</div>"
      ],
      "text/plain": [
       "     Sex  Length  Diameter  Height  Whole Weight  Shucked weight  \\\n",
       "0      M   0.455     0.365   0.095        0.5140          0.2245   \n",
       "1      M   0.350     0.265   0.090        0.2255          0.0995   \n",
       "2      F   0.530     0.420   0.135        0.6770          0.2565   \n",
       "3      M   0.440     0.365   0.125        0.5160          0.2155   \n",
       "4      I   0.330     0.255   0.080        0.2050          0.0895   \n",
       "...   ..     ...       ...     ...           ...             ...   \n",
       "4172   F   0.565     0.450   0.165        0.8870          0.3700   \n",
       "4173   M   0.590     0.440   0.135        0.9660          0.4390   \n",
       "4174   M   0.600     0.475   0.205        1.1760          0.5255   \n",
       "4175   F   0.625     0.485   0.150        1.0945          0.5310   \n",
       "4176   M   0.710     0.555   0.195        1.9485          0.9455   \n",
       "\n",
       "      Viscera weight  Shell weight  Rings  \n",
       "0             0.1010        0.1500     15  \n",
       "1             0.0485        0.0700      7  \n",
       "2             0.1415        0.2100      9  \n",
       "3             0.1140        0.1550     10  \n",
       "4             0.0395        0.0550      7  \n",
       "...              ...           ...    ...  \n",
       "4172          0.2390        0.2490     11  \n",
       "4173          0.2145        0.2605     10  \n",
       "4174          0.2875        0.3080      9  \n",
       "4175          0.2610        0.2960     10  \n",
       "4176          0.3765        0.4950     12  \n",
       "\n",
       "[4177 rows x 9 columns]"
      ]
     },
     "execution_count": 3,
     "metadata": {},
     "output_type": "execute_result"
    }
   ],
   "source": [
    "data"
   ]
  },
  {
   "cell_type": "markdown",
   "metadata": {},
   "source": [
    "## Visualization of dataset"
   ]
  },
  {
   "cell_type": "code",
   "execution_count": 4,
   "metadata": {
    "scrolled": true
   },
   "outputs": [
    {
     "data": {
      "text/plain": [
       "array([[<matplotlib.axes._subplots.AxesSubplot object at 0x00000267A5FBB948>]],\n",
       "      dtype=object)"
      ]
     },
     "execution_count": 4,
     "metadata": {},
     "output_type": "execute_result"
    },
    {
     "data": {
      "image/png": "[encoded data removed]",
      "text/plain": [
       "<Figure size 432x288 with 1 Axes>"
      ]
     },
     "metadata": {
      "needs_background": "light"
     },
     "output_type": "display_data"
    },
    {
     "data": {
      "text/plain": [
       "<Figure size 432x288 with 0 Axes>"
      ]
     },
     "metadata": {},
     "output_type": "display_data"
    },
    {
     "data": {
      "image/png": "[encoded data removed]",
      "text/plain": [
       "<Figure size 432x288 with 1 Axes>"
      ]
     },
     "metadata": {
      "needs_background": "light"
     },
     "output_type": "display_data"
    },
    {
     "data": {
      "text/plain": [
       "<Figure size 432x288 with 0 Axes>"
      ]
     },
     "metadata": {},
     "output_type": "display_data"
    },
    {
     "data": {
      "image/png": "[encoded data removed]",
      "text/plain": [
       "<Figure size 432x288 with 1 Axes>"
      ]
     },
     "metadata": {
      "needs_background": "light"
     },
     "output_type": "display_data"
    },
    {
     "data": {
      "text/plain": [
       "<Figure size 432x288 with 0 Axes>"
      ]
     },
     "metadata": {},
     "output_type": "display_data"
    },
    {
     "data": {
      "image/png": "[encoded data removed]",
      "text/plain": [
       "<Figure size 432x288 with 1 Axes>"
      ]
     },
     "metadata": {
      "needs_background": "light"
     },
     "output_type": "display_data"
    },
    {
     "data": {
      "text/plain": [
       "<Figure size 432x288 with 0 Axes>"
      ]
     },
     "metadata": {},
     "output_type": "display_data"
    },
    {
     "data": {
      "image/png": "[encoded data removed]",
      "text/plain": [
       "<Figure size 432x288 with 1 Axes>"
      ]
     },
     "metadata": {
      "needs_background": "light"
     },
     "output_type": "display_data"
    },
    {
     "data": {
      "text/plain": [
       "<Figure size 432x288 with 0 Axes>"
      ]
     },
     "metadata": {},
     "output_type": "display_data"
    },
    {
     "data": {
      "image/png": "[encoded data removed]",
      "text/plain": [
       "<Figure size 432x288 with 1 Axes>"
      ]
     },
     "metadata": {
      "needs_background": "light"
     },
     "output_type": "display_data"
    },
    {
     "data": {
      "text/plain": [
       "<Figure size 432x288 with 0 Axes>"
      ]
     },
     "metadata": {},
     "output_type": "display_data"
    },
    {
     "data": {
      "image/png": "[encoded data removed]",
      "text/plain": [
       "<Figure size 432x288 with 1 Axes>"
      ]
     },
     "metadata": {
      "needs_background": "light"
     },
     "output_type": "display_data"
    },
    {
     "data": {
      "text/plain": [
       "<Figure size 432x288 with 0 Axes>"
      ]
     },
     "metadata": {},
     "output_type": "display_data"
    },
    {
     "data": {
      "image/png": "[encoded data removed]",
      "text/plain": [
       "<Figure size 432x288 with 1 Axes>"
      ]
     },
     "metadata": {
      "needs_background": "light"
     },
     "output_type": "display_data"
    }
   ],
   "source": [
    "data['Sex'].value_counts().plot(kind='bar')\n",
    "plt.title('Sex')\n",
    "plt.figure()\n",
    "data.hist(column='Length')\n",
    "plt.figure()\n",
    "data.hist(column='Diameter')\n",
    "plt.figure()\n",
    "data.hist(column='Height')\n",
    "plt.figure()\n",
    "data.hist(column='Whole Weight')\n",
    "plt.figure()\n",
    "data.hist(column='Shucked weight')\n",
    "plt.figure()\n",
    "data.hist(column='Viscera weight')\n",
    "plt.figure()\n",
    "data.hist(column='Shell weight')"
   ]
  },
  {
   "cell_type": "code",
   "execution_count": 5,
   "metadata": {},
   "outputs": [],
   "source": [
    "#one hot encoding for Sex\n",
    "one_hot = pd.get_dummies(data['Sex']) \n",
    "data = data.drop('Sex',axis = 1)\n",
    "data = data.join(one_hot)"
   ]
  },
  {
   "cell_type": "markdown",
   "metadata": {},
   "source": [
    "## Data after One Hot Encoding for Discrete Values (Sex)"
   ]
  },
  {
   "cell_type": "code",
   "execution_count": 6,
   "metadata": {},
   "outputs": [
    {
     "data": {
      "text/html": [
       "<div>\n",
       "<style scoped>\n",
       "    .dataframe tbody tr th:only-of-type {\n",
       "        vertical-align: middle;\n",
       "    }\n",
       "\n",
       "    .dataframe tbody tr th {\n",
       "        vertical-align: top;\n",
       "    }\n",
       "\n",
       "    .dataframe thead th {\n",
       "        text-align: right;\n",
       "    }\n",
       "</style>\n",
       "<table border=\"1\" class=\"dataframe\">\n",
       "  <thead>\n",
       "    <tr style=\"text-align: right;\">\n",
       "      <th></th>\n",
       "      <th>Length</th>\n",
       "      <th>Diameter</th>\n",
       "      <th>Height</th>\n",
       "      <th>Whole Weight</th>\n",
       "      <th>Shucked weight</th>\n",
       "      <th>Viscera weight</th>\n",
       "      <th>Shell weight</th>\n",
       "      <th>Rings</th>\n",
       "      <th>F</th>\n",
       "      <th>I</th>\n",
       "      <th>M</th>\n",
       "    </tr>\n",
       "  </thead>\n",
       "  <tbody>\n",
       "    <tr>\n",
       "      <th>0</th>\n",
       "      <td>0.455</td>\n",
       "      <td>0.365</td>\n",
       "      <td>0.095</td>\n",
       "      <td>0.5140</td>\n",
       "      <td>0.2245</td>\n",
       "      <td>0.1010</td>\n",
       "      <td>0.1500</td>\n",
       "      <td>15</td>\n",
       "      <td>0</td>\n",
       "      <td>0</td>\n",
       "      <td>1</td>\n",
       "    </tr>\n",
       "    <tr>\n",
       "      <th>1</th>\n",
       "      <td>0.350</td>\n",
       "      <td>0.265</td>\n",
       "      <td>0.090</td>\n",
       "      <td>0.2255</td>\n",
       "      <td>0.0995</td>\n",
       "      <td>0.0485</td>\n",
       "      <td>0.0700</td>\n",
       "      <td>7</td>\n",
       "      <td>0</td>\n",
       "      <td>0</td>\n",
       "      <td>1</td>\n",
       "    </tr>\n",
       "    <tr>\n",
       "      <th>2</th>\n",
       "      <td>0.530</td>\n",
       "      <td>0.420</td>\n",
       "      <td>0.135</td>\n",
       "      <td>0.6770</td>\n",
       "      <td>0.2565</td>\n",
       "      <td>0.1415</td>\n",
       "      <td>0.2100</td>\n",
       "      <td>9</td>\n",
       "      <td>1</td>\n",
       "      <td>0</td>\n",
       "      <td>0</td>\n",
       "    </tr>\n",
       "    <tr>\n",
       "      <th>3</th>\n",
       "      <td>0.440</td>\n",
       "      <td>0.365</td>\n",
       "      <td>0.125</td>\n",
       "      <td>0.5160</td>\n",
       "      <td>0.2155</td>\n",
       "      <td>0.1140</td>\n",
       "      <td>0.1550</td>\n",
       "      <td>10</td>\n",
       "      <td>0</td>\n",
       "      <td>0</td>\n",
       "      <td>1</td>\n",
       "    </tr>\n",
       "    <tr>\n",
       "      <th>4</th>\n",
       "      <td>0.330</td>\n",
       "      <td>0.255</td>\n",
       "      <td>0.080</td>\n",
       "      <td>0.2050</td>\n",
       "      <td>0.0895</td>\n",
       "      <td>0.0395</td>\n",
       "      <td>0.0550</td>\n",
       "      <td>7</td>\n",
       "      <td>0</td>\n",
       "      <td>1</td>\n",
       "      <td>0</td>\n",
       "    </tr>\n",
       "    <tr>\n",
       "      <th>...</th>\n",
       "      <td>...</td>\n",
       "      <td>...</td>\n",
       "      <td>...</td>\n",
       "      <td>...</td>\n",
       "      <td>...</td>\n",
       "      <td>...</td>\n",
       "      <td>...</td>\n",
       "      <td>...</td>\n",
       "      <td>...</td>\n",
       "      <td>...</td>\n",
       "      <td>...</td>\n",
       "    </tr>\n",
       "    <tr>\n",
       "      <th>4172</th>\n",
       "      <td>0.565</td>\n",
       "      <td>0.450</td>\n",
       "      <td>0.165</td>\n",
       "      <td>0.8870</td>\n",
       "      <td>0.3700</td>\n",
       "      <td>0.2390</td>\n",
       "      <td>0.2490</td>\n",
       "      <td>11</td>\n",
       "      <td>1</td>\n",
       "      <td>0</td>\n",
       "      <td>0</td>\n",
       "    </tr>\n",
       "    <tr>\n",
       "      <th>4173</th>\n",
       "      <td>0.590</td>\n",
       "      <td>0.440</td>\n",
       "      <td>0.135</td>\n",
       "      <td>0.9660</td>\n",
       "      <td>0.4390</td>\n",
       "      <td>0.2145</td>\n",
       "      <td>0.2605</td>\n",
       "      <td>10</td>\n",
       "      <td>0</td>\n",
       "      <td>0</td>\n",
       "      <td>1</td>\n",
       "    </tr>\n",
       "    <tr>\n",
       "      <th>4174</th>\n",
       "      <td>0.600</td>\n",
       "      <td>0.475</td>\n",
       "      <td>0.205</td>\n",
       "      <td>1.1760</td>\n",
       "      <td>0.5255</td>\n",
       "      <td>0.2875</td>\n",
       "      <td>0.3080</td>\n",
       "      <td>9</td>\n",
       "      <td>0</td>\n",
       "      <td>0</td>\n",
       "      <td>1</td>\n",
       "    </tr>\n",
       "    <tr>\n",
       "      <th>4175</th>\n",
       "      <td>0.625</td>\n",
       "      <td>0.485</td>\n",
       "      <td>0.150</td>\n",
       "      <td>1.0945</td>\n",
       "      <td>0.5310</td>\n",
       "      <td>0.2610</td>\n",
       "      <td>0.2960</td>\n",
       "      <td>10</td>\n",
       "      <td>1</td>\n",
       "      <td>0</td>\n",
       "      <td>0</td>\n",
       "    </tr>\n",
       "    <tr>\n",
       "      <th>4176</th>\n",
       "      <td>0.710</td>\n",
       "      <td>0.555</td>\n",
       "      <td>0.195</td>\n",
       "      <td>1.9485</td>\n",
       "      <td>0.9455</td>\n",
       "      <td>0.3765</td>\n",
       "      <td>0.4950</td>\n",
       "      <td>12</td>\n",
       "      <td>0</td>\n",
       "      <td>0</td>\n",
       "      <td>1</td>\n",
       "    </tr>\n",
       "  </tbody>\n",
       "</table>\n",
       "<p>4177 rows × 11 columns</p>\n",
       "</div>"
      ],
      "text/plain": [
       "      Length  Diameter  Height  Whole Weight  Shucked weight  Viscera weight  \\\n",
       "0      0.455     0.365   0.095        0.5140          0.2245          0.1010   \n",
       "1      0.350     0.265   0.090        0.2255          0.0995          0.0485   \n",
       "2      0.530     0.420   0.135        0.6770          0.2565          0.1415   \n",
       "3      0.440     0.365   0.125        0.5160          0.2155          0.1140   \n",
       "4      0.330     0.255   0.080        0.2050          0.0895          0.0395   \n",
       "...      ...       ...     ...           ...             ...             ...   \n",
       "4172   0.565     0.450   0.165        0.8870          0.3700          0.2390   \n",
       "4173   0.590     0.440   0.135        0.9660          0.4390          0.2145   \n",
       "4174   0.600     0.475   0.205        1.1760          0.5255          0.2875   \n",
       "4175   0.625     0.485   0.150        1.0945          0.5310          0.2610   \n",
       "4176   0.710     0.555   0.195        1.9485          0.9455          0.3765   \n",
       "\n",
       "      Shell weight  Rings  F  I  M  \n",
       "0           0.1500     15  0  0  1  \n",
       "1           0.0700      7  0  0  1  \n",
       "2           0.2100      9  1  0  0  \n",
       "3           0.1550     10  0  0  1  \n",
       "4           0.0550      7  0  1  0  \n",
       "...            ...    ... .. .. ..  \n",
       "4172        0.2490     11  1  0  0  \n",
       "4173        0.2605     10  0  0  1  \n",
       "4174        0.3080      9  0  0  1  \n",
       "4175        0.2960     10  1  0  0  \n",
       "4176        0.4950     12  0  0  1  \n",
       "\n",
       "[4177 rows x 11 columns]"
      ]
     },
     "execution_count": 6,
     "metadata": {},
     "output_type": "execute_result"
    }
   ],
   "source": [
    "data"
   ]
  },
  {
   "cell_type": "markdown",
   "metadata": {},
   "source": [
    "## Min-Max Scaling"
   ]
  },
  {
   "cell_type": "code",
   "execution_count": 7,
   "metadata": {},
   "outputs": [],
   "source": [
    "#min max normalization\n",
    "for column in data.columns:\n",
    "    data[column]=(data[column]-data[column].min())/(data[column].max()-data[column].min())"
   ]
  },
  {
   "cell_type": "markdown",
   "metadata": {},
   "source": [
    "## Splitting Dataset into 90% train 10% test"
   ]
  },
  {
   "cell_type": "code",
   "execution_count": 8,
   "metadata": {},
   "outputs": [],
   "source": [
    "train_,test=model_selection.train_test_split(data, test_size=0.1, train_size=0.9)"
   ]
  },
  {
   "cell_type": "markdown",
   "metadata": {},
   "source": [
    "# Note: Training is done using the 5-fold validation. RMSE is reported on the validation set. Best Model from the 5 folds is determined using the RMSE value. Lower the RMSE, better is the model"
   ]
  },
  {
   "cell_type": "markdown",
   "metadata": {},
   "source": [
    "## Linear Regression w/o Regularization LR=0.00001"
   ]
  },
  {
   "cell_type": "code",
   "execution_count": 9,
   "metadata": {},
   "outputs": [],
   "source": [
    "def linear(w,x_train,y_train,x_test,y_test):\n",
    "    lr=0.00001\n",
    "    x_train=np.array(x_train)\n",
    "    y_train=np.array(y_train)\n",
    "    x_test=np.array(x_test)\n",
    "    y_test=np.array(y_test)\n",
    "    \n",
    "    for i in range(x_train.shape[0]): #3007\n",
    "        grad=0\n",
    "        for j in range(x_train.shape[1]): #10\n",
    "            grad=grad+(np.dot(x_train[i],w)-y_train[i])*x_train[i][j]\n",
    "            w[j]=w[j]-lr*grad\n",
    "        \n",
    "    #validation\n",
    "    y_pred=np.dot(x_test,w)\n",
    "    mse=np.sqrt(np.sum(np.square(y_pred-y_test)))/x_test.shape[0]\n",
    "    return(w,mse)"
   ]
  },
  {
   "cell_type": "code",
   "execution_count": 10,
   "metadata": {},
   "outputs": [
    {
     "data": {
      "text/plain": [
       "<Figure size 432x288 with 0 Axes>"
      ]
     },
     "execution_count": 10,
     "metadata": {},
     "output_type": "execute_result"
    },
    {
     "data": {
      "image/png": "[encoded data removed]",
      "text/plain": [
       "<Figure size 432x288 with 1 Axes>"
      ]
     },
     "metadata": {
      "needs_background": "light"
     },
     "output_type": "display_data"
    },
    {
     "data": {
      "text/plain": [
       "<Figure size 432x288 with 0 Axes>"
      ]
     },
     "metadata": {},
     "output_type": "display_data"
    }
   ],
   "source": [
    "best_rmse=10000\n",
    "kf=model_selection.KFold(n_splits=5)\n",
    "# train=kf.get_n_splits(train_)\n",
    "# print(train_.shape)\n",
    "# print(y.shape)\n",
    "\n",
    "y = train_['Rings']\n",
    "new_train = train_.drop(['Rings'], axis=1)\n",
    "# print(train_.shape)\n",
    "# print(y.shape)\n",
    "for train_index, test_index in kf.split(train_):\n",
    "    rmse=[]\n",
    "    \n",
    "#     print(\"TRAIN:\", train_index, \"TEST:\", test_index)\n",
    "    x_train, x_test = new_train.iloc[train_index], new_train.iloc[test_index]\n",
    "    w=np.zeros((x_train.shape[1],1))\n",
    "#     print(X_train.shape)\n",
    "#     print(X_test.shape)\n",
    "    y_train, y_test = y.iloc[train_index], y.iloc[test_index]\n",
    "#     print(y_test.shape)\n",
    "    for i in range(50):\n",
    "        w,mse=linear(w,x_train,y_train,x_test,y_test)\n",
    "        rmse.append(mse)\n",
    "    \n",
    "    plt.plot(rmse)\n",
    "    if(sum(rmse)<best_rmse):\n",
    "        w_best=w\n",
    "        best_rmse=sum(rmse)\n",
    "plt.figure()"
   ]
  },
  {
   "cell_type": "markdown",
   "metadata": {},
   "source": [
    "## RMSE for model without penalty on test set"
   ]
  },
  {
   "cell_type": "code",
   "execution_count": 11,
   "metadata": {},
   "outputs": [
    {
     "data": {
      "text/plain": [
       "0.14695609463470916"
      ]
     },
     "execution_count": 11,
     "metadata": {},
     "output_type": "execute_result"
    }
   ],
   "source": [
    "y=test['Rings']\n",
    "new_test=test.drop(['Rings'],axis=1)\n",
    "new_test=np.array(new_test)\n",
    "y_pred=np.dot(new_test,w)\n",
    "y=np.array(y)\n",
    "# np.sqrt(np.sum(np.square((y-y_pred))))/y.size\n",
    "# r2_score(y,y_pred)\n",
    "np.sqrt(np.sum(np.square(y_pred-y)))/len(y)"
   ]
  },
  {
   "cell_type": "markdown",
   "metadata": {},
   "source": [
    "## L2 Regularization LR:0.00001 lambda=0.01"
   ]
  },
  {
   "cell_type": "markdown",
   "metadata": {},
   "source": [
    "### Notice the loss function here. The square of the norm of the weights of the model are added to the loss function."
   ]
  },
  {
   "cell_type": "code",
   "execution_count": 12,
   "metadata": {},
   "outputs": [],
   "source": [
    "def l2(w,x_train,y_train,x_test,y_test):\n",
    "    lr=0.00001\n",
    "    x_train=np.array(x_train)\n",
    "    y_train=np.array(y_train)\n",
    "    x_test=np.array(x_test)\n",
    "    y_test=np.array(y_test)\n",
    "    lamb=0.0001\n",
    "    \n",
    "    for i in range(x_train.shape[0]): #3007\n",
    "        grad=0\n",
    "        for j in range(x_train.shape[1]): #10\n",
    "            grad=grad+(np.dot(x_train[i],w)-y_train[i])*x_train[i][j] + lamb*w[j]\n",
    "            w[j]=w[j]-lr*grad\n",
    "        \n",
    "    #validation\n",
    "    y_pred=np.dot(x_test,w)\n",
    "    mse=(np.sqrt(np.sum(np.square(y_pred-y_test))) + lamb*np.square(np.linalg.norm(w))) /x_test.shape[0]#notice the change in loss function\n",
    "    return(w,mse)"
   ]
  },
  {
   "cell_type": "code",
   "execution_count": 13,
   "metadata": {},
   "outputs": [
    {
     "data": {
      "text/plain": [
       "<Figure size 432x288 with 0 Axes>"
      ]
     },
     "execution_count": 13,
     "metadata": {},
     "output_type": "execute_result"
    },
    {
     "data": {
      "image/png": "[encoded data removed]",
      "text/plain": [
       "<Figure size 432x288 with 1 Axes>"
      ]
     },
     "metadata": {
      "needs_background": "light"
     },
     "output_type": "display_data"
    },
    {
     "data": {
      "text/plain": [
       "<Figure size 432x288 with 0 Axes>"
      ]
     },
     "metadata": {},
     "output_type": "display_data"
    }
   ],
   "source": [
    "best_rmse=10000\n",
    "kf=model_selection.KFold(n_splits=5)\n",
    "# train=kf.get_n_splits(train_)\n",
    "# print(train_.shape)\n",
    "# print(y.shape)\n",
    "\n",
    "y = train_['Rings']\n",
    "new_train = train_.drop(['Rings'], axis=1)\n",
    "# print(train_.shape)\n",
    "# print(y.shape)\n",
    "for train_index, test_index in kf.split(train_):\n",
    "    rmse=[]\n",
    "    \n",
    "#     print(\"TRAIN:\", train_index, \"TEST:\", test_index)\n",
    "    x_train, x_test = new_train.iloc[train_index], new_train.iloc[test_index]\n",
    "    wl2=np.zeros((x_train.shape[1],1))\n",
    "#     print(X_train.shape)\n",
    "#     print(X_test.shape)\n",
    "    y_train, y_test = y.iloc[train_index], y.iloc[test_index]\n",
    "#     print(y_test.shape)\n",
    "    for i in range(50):\n",
    "        wl2,mse=l2(wl2,x_train,y_train,x_test,y_test)\n",
    "        rmse.append(mse)\n",
    "    \n",
    "    plt.plot(rmse)\n",
    "    if(sum(rmse)<best_rmse):\n",
    "        w_best_l2=wl2\n",
    "        best_rmse=sum(rmse)\n",
    "plt.figure()"
   ]
  },
  {
   "cell_type": "markdown",
   "metadata": {},
   "source": [
    "## RMSE for L2 on test set"
   ]
  },
  {
   "cell_type": "code",
   "execution_count": 14,
   "metadata": {},
   "outputs": [
    {
     "data": {
      "text/plain": [
       "0.14705283270813393"
      ]
     },
     "execution_count": 14,
     "metadata": {},
     "output_type": "execute_result"
    }
   ],
   "source": [
    "y=test['Rings']\n",
    "new_test=test.drop(['Rings'],axis=1)\n",
    "new_test=np.array(new_test)\n",
    "y_pred=np.dot(new_test,w_best_l2)\n",
    "y=np.array(y)\n",
    "# np.sqrt(np.sum(np.square((y-y_pred))))/y.size\n",
    "# r2_score(y,y_pred)\n",
    "np.sqrt(np.sum(np.square(y_pred-y)))/len(y)"
   ]
  },
  {
   "cell_type": "markdown",
   "metadata": {},
   "source": [
    "## L1 Regularization LR:0.00001, lambda=0.001"
   ]
  },
  {
   "cell_type": "markdown",
   "metadata": {},
   "source": [
    "### Notice the loss function here. The absolute value of the weights of the model are added to the loss function"
   ]
  },
  {
   "cell_type": "code",
   "execution_count": 15,
   "metadata": {},
   "outputs": [],
   "source": [
    "def l1(w,x_train,y_train,x_test,y_test):\n",
    "    lr=0.00001\n",
    "    x_train=np.array(x_train)\n",
    "    y_train=np.array(y_train)\n",
    "    x_test=np.array(x_test)\n",
    "    y_test=np.array(y_test)\n",
    "    constant=0.5\n",
    "    lamb=0.001\n",
    "    \n",
    "    for i in range(x_train.shape[0]): #3007\n",
    "        grad=0\n",
    "        for j in range(x_train.shape[1]): #10\n",
    "            grad=grad+(np.dot(x_train[i],w)-y_train[i])*x_train[i][j] + lamb*constant\n",
    "            w[j]=w[j]-lr*grad\n",
    "        \n",
    "    #validation\n",
    "    y_pred=np.dot(x_test,w)\n",
    "    mse=(np.sqrt(np.sum(np.square(y_pred-y_test))) + lamb*np.sum(np.abs(w)))/x_test.shape[0]#notice the change in loss function here\n",
    "    return(w,mse)"
   ]
  },
  {
   "cell_type": "code",
   "execution_count": 16,
   "metadata": {},
   "outputs": [
    {
     "data": {
      "text/plain": [
       "<Figure size 432x288 with 0 Axes>"
      ]
     },
     "execution_count": 16,
     "metadata": {},
     "output_type": "execute_result"
    },
    {
     "data": {
      "image/png": "[encoded data removed]",
      "text/plain": [
       "<Figure size 432x288 with 1 Axes>"
      ]
     },
     "metadata": {
      "needs_background": "light"
     },
     "output_type": "display_data"
    },
    {
     "data": {
      "text/plain": [
       "<Figure size 432x288 with 0 Axes>"
      ]
     },
     "metadata": {},
     "output_type": "display_data"
    }
   ],
   "source": [
    "best_rmse=10000\n",
    "kf=model_selection.KFold(n_splits=5)\n",
    "# train=kf.get_n_splits(train_)\n",
    "# print(train_.shape)\n",
    "# print(y.shape)\n",
    "\n",
    "y = train_['Rings']\n",
    "new_train = train_.drop(['Rings'], axis=1)\n",
    "# print(train_.shape)\n",
    "# print(y.shape)\n",
    "for train_index, test_index in kf.split(train_):\n",
    "    rmse=[]\n",
    "    \n",
    "#     print(\"TRAIN:\", train_index, \"TEST:\", test_index)\n",
    "    x_train, x_test = new_train.iloc[train_index], new_train.iloc[test_index]\n",
    "    wl1=np.zeros((x_train.shape[1],1))\n",
    "#     print(X_train.shape)\n",
    "#     print(X_test.shape)\n",
    "    y_train, y_test = y.iloc[train_index], y.iloc[test_index]\n",
    "#     print(y_test.shape)\n",
    "    for i in range(50):\n",
    "        wl1,mse=l1(wl1,x_train,y_train,x_test,y_test)\n",
    "        rmse.append(mse)\n",
    "    \n",
    "    plt.plot(rmse)\n",
    "    if(sum(rmse)<best_rmse):\n",
    "        w_best_l1=wl1\n",
    "        best_rmse=sum(rmse)\n",
    "plt.figure()"
   ]
  },
  {
   "cell_type": "markdown",
   "metadata": {},
   "source": [
    "## RMSE for L1 on test set"
   ]
  },
  {
   "cell_type": "code",
   "execution_count": 17,
   "metadata": {},
   "outputs": [
    {
     "data": {
      "text/plain": [
       "0.1471399932030919"
      ]
     },
     "execution_count": 17,
     "metadata": {},
     "output_type": "execute_result"
    }
   ],
   "source": [
    "y=test['Rings']\n",
    "new_test=test.drop(['Rings'],axis=1)\n",
    "new_test=np.array(new_test)\n",
    "y_pred=np.dot(new_test,w_best_l1)\n",
    "y=np.array(y)\n",
    "# np.sqrt(np.sum(np.square((y-y_pred))))/y.size\n",
    "np.sqrt(np.sum(np.square(y_pred-y)))/len(y)"
   ]
  },
  {
   "cell_type": "markdown",
   "metadata": {},
   "source": [
    "## SkLearn implementation of Linear Regression no Penalty"
   ]
  },
  {
   "cell_type": "code",
   "execution_count": 18,
   "metadata": {},
   "outputs": [],
   "source": [
    "from sklearn.linear_model import LinearRegression\n",
    "reg=LinearRegression()\n",
    "kf=model_selection.KFold(n_splits=5)\n",
    "# train=kf.get_n_splits(train_)\n",
    "# print(train_.shape)\n",
    "# print(y.shape)\n",
    "\n",
    "\n",
    "y = train_['Rings']\n",
    "new_train = train_.drop(['Rings'], axis=1)\n",
    "# y1=test['Rings']\n",
    "# new_test=test.drop(['Rings'],axis=1)\n",
    "# new_test=np.array(new_test)\n",
    "best_rmse=10000\n",
    "# print(train_.shape)\n",
    "# print(y.shape)\n",
    "\n",
    "for train_index, test_index in kf.split(train_):\n",
    "#     rmse=[]\n",
    "    \n",
    "#     print(\"TRAIN:\", train_index, \"TEST:\", test_index)\n",
    "    x_train, x_test = new_train.iloc[train_index], new_train.iloc[test_index]\n",
    "#     wl1=np.zeros((x_train.shape[1],1))\n",
    "#     print(X_train.shape)\n",
    "#     print(X_test.shape)\n",
    "    y_train, y_test = y.iloc[train_index], y.iloc[test_index]\n",
    "#     print(y_test.shape)\n",
    "    reg.fit(x_train,y_train)\n",
    "    y_pred=reg.predict(x_test)\n",
    "    rmse=np.sqrt(np.sum(np.square(y_pred-y_test)))/len(y_pred)\n",
    "#     print(rmse)\n",
    "    if(rmse<best_rmse):\n",
    "        best_rmse=rmse\n",
    "        best_model=reg\n",
    "#     print(reg.score(new_test,y1))\n",
    "\n",
    "y=test['Rings']\n",
    "new_test=test.drop(['Rings'],axis=1)   \n"
   ]
  },
  {
   "cell_type": "markdown",
   "metadata": {},
   "source": [
    "## RMSE for inbuilt Linear Regression on test set"
   ]
  },
  {
   "cell_type": "code",
   "execution_count": 19,
   "metadata": {},
   "outputs": [
    {
     "data": {
      "text/plain": [
       "0.08471284911075605"
      ]
     },
     "execution_count": 19,
     "metadata": {},
     "output_type": "execute_result"
    }
   ],
   "source": [
    "from sklearn.metrics import mean_squared_error\n",
    "\n",
    "y=test['Rings']\n",
    "new_test=test.drop(['Rings'],axis=1)  \n",
    "y_pred=best_model.predict(new_test)\n",
    "rms = mean_squared_error(y, y_pred,squared=False)\n",
    "rms"
   ]
  },
  {
   "cell_type": "markdown",
   "metadata": {},
   "source": [
    "## SkLearn Implementation of Ridge  (L2)"
   ]
  },
  {
   "cell_type": "code",
   "execution_count": 20,
   "metadata": {},
   "outputs": [],
   "source": [
    "from sklearn.linear_model import Ridge\n",
    "reg=Ridge(alpha=0.000001)\n",
    "kf=model_selection.KFold(n_splits=5)\n",
    "# train=kf.get_n_splits(train_)\n",
    "# print(train_.shape)\n",
    "# print(y.shape)\n",
    "\n",
    "\n",
    "y = train_['Rings']\n",
    "new_train = train_.drop(['Rings'], axis=1)\n",
    "# y1=test['Rings']\n",
    "# new_test=test.drop(['Rings'],axis=1)\n",
    "# new_test=np.array(new_test)\n",
    "best_rmse=10000\n",
    "# print(train_.shape)\n",
    "# print(y.shape)\n",
    "\n",
    "for train_index, test_index in kf.split(train_):\n",
    "#     rmse=[]\n",
    "    \n",
    "#     print(\"TRAIN:\", train_index, \"TEST:\", test_index)\n",
    "    x_train, x_test = new_train.iloc[train_index], new_train.iloc[test_index]\n",
    "#     wl1=np.zeros((x_train.shape[1],1))\n",
    "#     print(X_train.shape)\n",
    "#     print(X_test.shape)\n",
    "    y_train, y_test = y.iloc[train_index], y.iloc[test_index]\n",
    "#     print(y_test.shape)\n",
    "    reg.fit(x_train,y_train)\n",
    "    y_pred=reg.predict(x_test)\n",
    "    rmse=np.sqrt(np.sum(np.square(y_pred-y_test)))/len(y_pred)\n",
    "#     print(rmse)\n",
    "    if(rmse<best_rmse):\n",
    "        best_rmse=rmse\n",
    "        best_model=reg\n",
    "#     print(reg.score(new_test,y1))\n",
    "\n",
    "y=test['Rings']\n",
    "new_test=test.drop(['Rings'],axis=1)   \n"
   ]
  },
  {
   "cell_type": "markdown",
   "metadata": {},
   "source": [
    "## RMSE for Ridge on test set"
   ]
  },
  {
   "cell_type": "code",
   "execution_count": 21,
   "metadata": {},
   "outputs": [
    {
     "data": {
      "text/plain": [
       "0.08471285141421189"
      ]
     },
     "execution_count": 21,
     "metadata": {},
     "output_type": "execute_result"
    }
   ],
   "source": [
    "from sklearn.metrics import mean_squared_error\n",
    "\n",
    "y=test['Rings']\n",
    "new_test=test.drop(['Rings'],axis=1)  \n",
    "y_pred=best_model.predict(new_test)\n",
    "rms = mean_squared_error(y, y_pred,squared=False)\n",
    "rms"
   ]
  },
  {
   "cell_type": "markdown",
   "metadata": {},
   "source": [
    "## SkLearn Implementation of Lasso (L1)"
   ]
  },
  {
   "cell_type": "code",
   "execution_count": 22,
   "metadata": {},
   "outputs": [],
   "source": [
    "from sklearn.linear_model import Lasso\n",
    "reg=Lasso(alpha=0.00001)\n",
    "kf=model_selection.KFold(n_splits=5)\n",
    "# train=kf.get_n_splits(train_)\n",
    "# print(train_.shape)\n",
    "# print(y.shape)\n",
    "\n",
    "\n",
    "y = train_['Rings']\n",
    "new_train = train_.drop(['Rings'], axis=1)\n",
    "# y1=test['Rings']\n",
    "# new_test=test.drop(['Rings'],axis=1)\n",
    "# new_test=np.array(new_test)\n",
    "best_rmse=10000\n",
    "# print(train_.shape)\n",
    "# print(y.shape)\n",
    "\n",
    "for train_index, test_index in kf.split(train_):\n",
    "#     rmse=[]\n",
    "    \n",
    "#     print(\"TRAIN:\", train_index, \"TEST:\", test_index)\n",
    "    x_train, x_test = new_train.iloc[train_index], new_train.iloc[test_index]\n",
    "#     wl1=np.zeros((x_train.shape[1],1))\n",
    "#     print(X_train.shape)\n",
    "#     print(X_test.shape)\n",
    "    y_train, y_test = y.iloc[train_index], y.iloc[test_index]\n",
    "#     print(y_test.shape)\n",
    "    reg.fit(x_train,y_train)\n",
    "    y_pred=reg.predict(x_test)\n",
    "    rmse=np.sqrt(np.sum(np.square(y_pred-y_test)))/len(y_pred)\n",
    "#     print(rmse)\n",
    "    if(rmse<best_rmse):\n",
    "        best_rmse=rmse\n",
    "        best_model=reg\n",
    "#     print(reg.score(new_test,y1))\n",
    "\n",
    "y=test['Rings']\n",
    "new_test=test.drop(['Rings'],axis=1)   \n"
   ]
  },
  {
   "cell_type": "markdown",
   "metadata": {},
   "source": [
    "## RMSE for Lasso on test set"
   ]
  },
  {
   "cell_type": "code",
   "execution_count": 23,
   "metadata": {},
   "outputs": [
    {
     "data": {
      "text/plain": [
       "0.08480590164862717"
      ]
     },
     "execution_count": 23,
     "metadata": {},
     "output_type": "execute_result"
    }
   ],
   "source": [
    "from sklearn.metrics import mean_squared_error\n",
    "\n",
    "y=test['Rings']\n",
    "new_test=test.drop(['Rings'],axis=1)  \n",
    "y_pred=best_model.predict(new_test)\n",
    "rms = mean_squared_error(y, y_pred,squared=False)\n",
    "rms"
   ]
  },
  {
   "cell_type": "markdown",
   "metadata": {},
   "source": [
    "### The introduction of penalty (L1 and L2) does not seem to have much effect on the RMSE value. After running multiple runs of this code, no conclusive best model can be found. Sometimes L1 performs the best, sometimes L2 and sometimes no penalty is the best model. The RMSE values are very close to each other."
   ]
  },
  {
   "cell_type": "markdown",
   "metadata": {},
   "source": [
    "### The inbuilt regression models give slightly lower RMSE (about 0.06)"
   ]
  },
  {
   "cell_type": "markdown",
   "metadata": {},
   "source": [
    "## Closed Form RMSE on validation set"
   ]
  },
  {
   "cell_type": "code",
   "execution_count": 24,
   "metadata": {},
   "outputs": [
    {
     "name": "stdout",
     "output_type": "stream",
     "text": [
      "RMSE of fold 1: 0.0027954060476873955\n",
      "RMSE of fold 2: 0.003147262374071904\n",
      "RMSE of fold 3: 0.002681020281461619\n",
      "RMSE of fold 4: 0.0026932049414070255\n",
      "RMSE of fold 5: 0.0029880871585471888\n"
     ]
    }
   ],
   "source": [
    "kf=model_selection.KFold(n_splits=5)\n",
    "y = train_['Rings']\n",
    "new_train = train_.drop(['Rings'], axis=1)\n",
    "# y1=test['Rings']\n",
    "# new_test=test.drop(['Rings'],axis=1)\n",
    "# new_test=np.array(new_test)\n",
    "\n",
    "idx=1\n",
    "for train_index, test_index in kf.split(train_):\n",
    "    x_train, x_test = new_train.iloc[train_index], new_train.iloc[test_index]\n",
    "    y_train, y_test = y.iloc[train_index], y.iloc[test_index]\n",
    "    w=np.dot(np.linalg.inv(np.dot(np.transpose(x_train),x_train)),np.dot(np.transpose(x_train),y_train))\n",
    "    \n",
    "    y_pred=np.dot(x_test,w)\n",
    "    y_test=np.array(y_test)\n",
    "    print(\"RMSE of fold \"+str(idx)+\":\",np.sqrt(np.sum(np.square(y_pred-y_test)))/len(y_test))\n",
    "    idx+=1\n",
    "\n",
    "    \n",
    "    "
   ]
  }
 ],
 "metadata": {
  "kernelspec": {
   "display_name": "Python 3",
   "language": "python",
   "name": "python3"
  },
  "language_info": {
   "codemirror_mode": {
    "name": "ipython",
    "version": 3
   },
   "file_extension": ".py",
   "mimetype": "text/x-python",
   "name": "python",
   "nbconvert_exporter": "python",
   "pygments_lexer": "ipython3",
   "version": "3.7.6"
  }
 },
 "nbformat": 4,
 "nbformat_minor": 4
}
